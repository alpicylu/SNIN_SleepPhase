{
 "cells": [
  {
   "cell_type": "code",
   "execution_count": null,
   "id": "b48a5483",
   "metadata": {
    "_cell_guid": "b1076dfc-b9ad-4769-8c92-a6c4dae69d19",
    "_uuid": "8f2839f25d086af736a60e9eeb907d3b93b6e0e5",
    "execution": {
     "iopub.execute_input": "2022-03-22T16:53:18.332170Z",
     "iopub.status.busy": "2022-03-22T16:53:18.331357Z",
     "iopub.status.idle": "2022-03-22T16:53:18.643618Z",
     "shell.execute_reply": "2022-03-22T16:53:18.642970Z",
     "shell.execute_reply.started": "2022-03-22T16:47:28.511864Z"
    },
    "papermill": {
     "duration": 0.341275,
     "end_time": "2022-03-22T16:53:18.643781",
     "exception": false,
     "start_time": "2022-03-22T16:53:18.302506",
     "status": "completed"
    },
    "tags": []
   },
   "outputs": [],
   "source": [
    "import matplotlib.pyplot as plt\n",
    "import numpy as np\n",
    "import pandas as pd\n",
    "import cv2\n",
    "import os"
   ]
  },
  {
   "cell_type": "code",
   "execution_count": null,
   "id": "b755e983",
   "metadata": {
    "execution": {
     "iopub.execute_input": "2022-03-22T16:53:18.683604Z",
     "iopub.status.busy": "2022-03-22T16:53:18.683039Z",
     "iopub.status.idle": "2022-03-22T16:53:21.404214Z",
     "shell.execute_reply": "2022-03-22T16:53:21.404647Z",
     "shell.execute_reply.started": "2022-03-22T16:47:28.803688Z"
    },
    "papermill": {
     "duration": 2.744702,
     "end_time": "2022-03-22T16:53:21.404796",
     "exception": false,
     "start_time": "2022-03-22T16:53:18.660094",
     "status": "completed"
    },
    "tags": []
   },
   "outputs": [],
   "source": [
    "# first let's show the differences between our three classes\n",
    "plt.figure(figsize = (15, 15))\n",
    "covid_img   = cv2.imread('Covid19-dataset/train/Covid/01.jpeg')\n",
    "normal_img  = cv2.imread('Covid19-dataset/train/Normal/01.jpeg')\n",
    "vp_img      = cv2.imread('Covid19-dataset/train/Viral Pneumonia/01.jpeg')\n",
    "plt.subplot(1, 3, 1)\n",
    "plt.imshow(covid_img)\n",
    "plt.title('Covid')\n",
    "plt.subplot(1, 3, 2)\n",
    "plt.imshow(normal_img)\n",
    "plt.title('Normal')\n",
    "plt.subplot(1, 3, 3)\n",
    "plt.imshow(vp_img)\n",
    "plt.title('Viral Pneumonia')\n",
    "plt.show()"
   ]
  },
  {
   "cell_type": "code",
   "execution_count": null,
   "id": "e7879efa",
   "metadata": {
    "execution": {
     "iopub.execute_input": "2022-03-22T16:53:21.452410Z",
     "iopub.status.busy": "2022-03-22T16:53:21.451837Z",
     "iopub.status.idle": "2022-03-22T16:53:26.746946Z",
     "shell.execute_reply": "2022-03-22T16:53:26.745887Z",
     "shell.execute_reply.started": "2022-03-22T16:47:31.242282Z"
    },
    "papermill": {
     "duration": 5.321428,
     "end_time": "2022-03-22T16:53:26.747110",
     "exception": false,
     "start_time": "2022-03-22T16:53:21.425682",
     "status": "completed"
    },
    "tags": []
   },
   "outputs": [],
   "source": [
    "import tensorflow as tf\n",
    "from tensorflow import keras\n",
    "from tensorflow.keras.preprocessing import image_dataset_from_directory\n",
    "from tensorflow.keras.preprocessing.image import ImageDataGenerator\n",
    "from tensorflow.keras import layers\n",
    "from tensorflow.keras.layers.experimental import preprocessing\n",
    "from tensorflow.keras.models import load_model\n",
    "from tensorflow.keras.applications import MobileNetV2, VGG16, VGG19, ResNet50\n",
    "from tensorflow.keras.callbacks import EarlyStopping"
   ]
  },
  {
   "cell_type": "code",
   "execution_count": null,
   "id": "82ab9f4b",
   "metadata": {
    "execution": {
     "iopub.execute_input": "2022-03-22T16:53:26.801566Z",
     "iopub.status.busy": "2022-03-22T16:53:26.800897Z",
     "iopub.status.idle": "2022-03-22T16:53:26.808956Z",
     "shell.execute_reply": "2022-03-22T16:53:26.809466Z",
     "shell.execute_reply.started": "2022-03-22T16:47:31.250159Z"
    },
    "papermill": {
     "duration": 0.038001,
     "end_time": "2022-03-22T16:53:26.809620",
     "exception": false,
     "start_time": "2022-03-22T16:53:26.771619",
     "status": "completed"
    },
    "tags": []
   },
   "outputs": [],
   "source": [
    "# number of classes \n",
    "dir_list = sorted(os.listdir('Covid19-dataset/train'))\n",
    "class_names_lst = [dir_name for dir_name in dir_list]\n",
    "class_names_lst"
   ]
  },
  {
   "cell_type": "code",
   "execution_count": null,
   "id": "3f711444",
   "metadata": {
    "execution": {
     "iopub.execute_input": "2022-03-22T16:53:26.868038Z",
     "iopub.status.busy": "2022-03-22T16:53:26.866973Z",
     "iopub.status.idle": "2022-03-22T16:53:27.176462Z",
     "shell.execute_reply": "2022-03-22T16:53:27.176890Z",
     "shell.execute_reply.started": "2022-03-22T16:47:31.262502Z"
    },
    "papermill": {
     "duration": 0.34323,
     "end_time": "2022-03-22T16:53:27.177056",
     "exception": false,
     "start_time": "2022-03-22T16:53:26.833826",
     "status": "completed"
    },
    "tags": []
   },
   "outputs": [],
   "source": [
    "# let's load the data\n",
    "img_generator = ImageDataGenerator(\n",
    "    rescale = 1. / 255,\n",
    "    horizontal_flip = True,\n",
    "    rotation_range = 20,\n",
    "    shear_range = 0.2,\n",
    "    fill_mode = 'nearest',\n",
    "    validation_split=0.1\n",
    ")\n",
    "train_data = img_generator.flow_from_directory(\n",
    "    'Covid19-dataset/train',\n",
    "    target_size = (255, 255),\n",
    "    color_mode = 'rgb',\n",
    "    classes = class_names_lst,\n",
    "    class_mode = 'categorical',\n",
    "    batch_size  = 64,\n",
    "    subset = 'training'\n",
    ")\n",
    "valid_data = img_generator.flow_from_directory(\n",
    "    'Covid19-dataset/train',\n",
    "    target_size = (255, 255),\n",
    "    color_mode = 'rgb',\n",
    "    classes = class_names_lst,\n",
    "    class_mode = 'categorical',\n",
    "    batch_size  = 64,\n",
    "    subset = 'validation'\n",
    ")\n",
    "test_generator = ImageDataGenerator(\n",
    "    rescale = 1. / 255\n",
    ")\n",
    "test_data = test_generator.flow_from_directory(\n",
    "    'Covid19-dataset/test',\n",
    "    target_size = (255, 255),\n",
    "    color_mode = 'rgb',\n",
    "    classes = class_names_lst,\n",
    "    class_mode = 'categorical',\n",
    "    batch_size  = 64,\n",
    "    shuffle = False\n",
    ")"
   ]
  },
  {
   "cell_type": "code",
   "execution_count": null,
   "id": "bce7b373",
   "metadata": {
    "execution": {
     "iopub.execute_input": "2022-03-22T16:53:27.227680Z",
     "iopub.status.busy": "2022-03-22T16:53:27.227069Z",
     "iopub.status.idle": "2022-03-22T16:53:34.195573Z",
     "shell.execute_reply": "2022-03-22T16:53:34.195994Z",
     "shell.execute_reply.started": "2022-03-22T16:47:31.578146Z"
    },
    "papermill": {
     "duration": 6.997477,
     "end_time": "2022-03-22T16:53:34.196156",
     "exception": false,
     "start_time": "2022-03-22T16:53:27.198679",
     "status": "completed"
    },
    "tags": []
   },
   "outputs": [],
   "source": [
    "base_model = ResNet50(input_shape=(255, 255, 3),\n",
    "                      include_top=False,\n",
    "                      weights=\"imagenet\")\n",
    "base2_model = MobileNetV2(input_shape=(255, 255, 3),\n",
    "                          include_top=False,\n",
    "                          weights=\"imagenet\")\n",
    "base3_model = VGG19(input_shape=(255, 255, 3),\n",
    "                    include_top=False,\n",
    "                    weights=\"imagenet\")\n",
    "base_model.trainable = False\n",
    "base2_model.trainable = False\n",
    "base3_model.trainable = True"
   ]
  },
  {
   "cell_type": "code",
   "execution_count": null,
   "id": "75279dd2",
   "metadata": {
    "execution": {
     "iopub.execute_input": "2022-03-22T16:53:34.274293Z",
     "iopub.status.busy": "2022-03-22T16:53:34.273106Z",
     "iopub.status.idle": "2022-03-22T16:53:34.276909Z",
     "shell.execute_reply": "2022-03-22T16:53:34.277326Z",
     "shell.execute_reply.started": "2022-03-22T16:47:34.127464Z"
    },
    "papermill": {
     "duration": 0.045118,
     "end_time": "2022-03-22T16:53:34.277465",
     "exception": false,
     "start_time": "2022-03-22T16:53:34.232347",
     "status": "completed"
    },
    "tags": []
   },
   "outputs": [],
   "source": [
    "len(base3_model.layers)"
   ]
  },
  {
   "cell_type": "code",
   "execution_count": null,
   "id": "23f05478",
   "metadata": {
    "execution": {
     "iopub.execute_input": "2022-03-22T16:53:34.353674Z",
     "iopub.status.busy": "2022-03-22T16:53:34.351166Z",
     "iopub.status.idle": "2022-03-22T16:53:34.355802Z",
     "shell.execute_reply": "2022-03-22T16:53:34.356230Z",
     "shell.execute_reply.started": "2022-03-22T16:47:34.134758Z"
    },
    "papermill": {
     "duration": 0.043588,
     "end_time": "2022-03-22T16:53:34.356374",
     "exception": false,
     "start_time": "2022-03-22T16:53:34.312786",
     "status": "completed"
    },
    "tags": []
   },
   "outputs": [],
   "source": [
    "fine_tune = 20\n",
    "for layer in base_model.layers[:fine_tune]:\n",
    "    layer.trainable = False"
   ]
  },
  {
   "cell_type": "code",
   "execution_count": null,
   "id": "e7ec33b9",
   "metadata": {
    "execution": {
     "iopub.execute_input": "2022-03-22T16:53:34.432604Z",
     "iopub.status.busy": "2022-03-22T16:53:34.431790Z",
     "iopub.status.idle": "2022-03-22T16:53:34.433807Z",
     "shell.execute_reply": "2022-03-22T16:53:34.434236Z",
     "shell.execute_reply.started": "2022-03-22T16:47:34.145179Z"
    },
    "papermill": {
     "duration": 0.043393,
     "end_time": "2022-03-22T16:53:34.434397",
     "exception": false,
     "start_time": "2022-03-22T16:53:34.391004",
     "status": "completed"
    },
    "tags": []
   },
   "outputs": [],
   "source": [
    "early_stop=EarlyStopping(monitor='val_loss',patience=5, restore_best_weights=True)"
   ]
  },
  {
   "cell_type": "code",
   "execution_count": null,
   "id": "bbbf1748",
   "metadata": {
    "execution": {
     "iopub.execute_input": "2022-03-22T16:53:34.514337Z",
     "iopub.status.busy": "2022-03-22T16:53:34.513439Z",
     "iopub.status.idle": "2022-03-22T16:53:34.592365Z",
     "shell.execute_reply": "2022-03-22T16:53:34.591893Z",
     "shell.execute_reply.started": "2022-03-22T16:47:34.153380Z"
    },
    "papermill": {
     "duration": 0.121363,
     "end_time": "2022-03-22T16:53:34.592499",
     "exception": false,
     "start_time": "2022-03-22T16:53:34.471136",
     "status": "completed"
    },
    "tags": []
   },
   "outputs": [],
   "source": [
    "model = keras.Sequential([\n",
    "    base3_model,\n",
    "    layers.Flatten(),\n",
    "    layers.Dense(4, activation = 'softmax')\n",
    "])\n",
    "model.compile(\n",
    "    optimizer = tf.keras.optimizers.Adam(learning_rate = 0.0001),\n",
    "    loss = 'categorical_crossentropy',\n",
    "    metrics = 'accuracy'\n",
    ")\n",
    "model.summary()"
   ]
  },
  {
   "cell_type": "code",
   "execution_count": null,
   "id": "64963980",
   "metadata": {
    "execution": {
     "iopub.execute_input": "2022-03-22T16:53:34.669814Z",
     "iopub.status.busy": "2022-03-22T16:53:34.668945Z",
     "iopub.status.idle": "2022-03-22T16:56:26.144085Z",
     "shell.execute_reply": "2022-03-22T16:56:26.143665Z",
     "shell.execute_reply.started": "2022-03-22T16:47:34.236763Z"
    },
    "papermill": {
     "duration": 171.515871,
     "end_time": "2022-03-22T16:56:26.144235",
     "exception": false,
     "start_time": "2022-03-22T16:53:34.628364",
     "status": "completed"
    },
    "tags": []
   },
   "outputs": [],
   "source": [
    "model.fit(\n",
    "    train_data,\n",
    "    epochs = 2,\n",
    "    batch_size = 64,\n",
    "    validation_data = valid_data,\n",
    "    callbacks = [early_stop]\n",
    ")"
   ]
  },
  {
   "cell_type": "code",
   "execution_count": null,
   "id": "917498e8",
   "metadata": {
    "execution": {
     "iopub.execute_input": "2022-03-22T16:56:26.257028Z",
     "iopub.status.busy": "2022-03-22T16:56:26.256495Z",
     "iopub.status.idle": "2022-03-22T16:56:30.316693Z",
     "shell.execute_reply": "2022-03-22T16:56:30.317105Z",
     "shell.execute_reply.started": "2022-03-22T16:50:11.519172Z"
    },
    "papermill": {
     "duration": 4.118838,
     "end_time": "2022-03-22T16:56:30.317316",
     "exception": false,
     "start_time": "2022-03-22T16:56:26.198478",
     "status": "completed"
    },
    "tags": []
   },
   "outputs": [],
   "source": [
    "y_hat = model.predict(test_data)"
   ]
  },
  {
   "cell_type": "code",
   "execution_count": null,
   "id": "67ecaef1",
   "metadata": {
    "execution": {
     "iopub.execute_input": "2022-03-22T16:56:30.431810Z",
     "iopub.status.busy": "2022-03-22T16:56:30.431073Z",
     "iopub.status.idle": "2022-03-22T16:56:30.433945Z",
     "shell.execute_reply": "2022-03-22T16:56:30.434410Z",
     "shell.execute_reply.started": "2022-03-22T16:50:14.688210Z"
    },
    "papermill": {
     "duration": 0.062565,
     "end_time": "2022-03-22T16:56:30.434572",
     "exception": false,
     "start_time": "2022-03-22T16:56:30.372007",
     "status": "completed"
    },
    "tags": []
   },
   "outputs": [],
   "source": [
    "y_hat_lst = []\n",
    "for idx in range(y_hat.shape[0]):\n",
    "    y_hat_lst.append(np.argmax(y_hat[idx]))"
   ]
  },
  {
   "cell_type": "code",
   "execution_count": null,
   "id": "402f3559",
   "metadata": {
    "execution": {
     "iopub.execute_input": "2022-03-22T16:56:30.549911Z",
     "iopub.status.busy": "2022-03-22T16:56:30.549135Z",
     "iopub.status.idle": "2022-03-22T16:56:30.553397Z",
     "shell.execute_reply": "2022-03-22T16:56:30.552941Z",
     "shell.execute_reply.started": "2022-03-22T16:50:14.696095Z"
    },
    "papermill": {
     "duration": 0.062543,
     "end_time": "2022-03-22T16:56:30.553524",
     "exception": false,
     "start_time": "2022-03-22T16:56:30.490981",
     "status": "completed"
    },
    "tags": []
   },
   "outputs": [],
   "source": [
    "y_hat_cat = []\n",
    "for val in y_hat_lst:\n",
    "    y_hat_cat.append(class_names_lst[val])"
   ]
  },
  {
   "cell_type": "code",
   "execution_count": null,
   "id": "0302d30d",
   "metadata": {
    "execution": {
     "iopub.execute_input": "2022-03-22T16:56:30.666954Z",
     "iopub.status.busy": "2022-03-22T16:56:30.665365Z",
     "iopub.status.idle": "2022-03-22T16:56:30.667526Z",
     "shell.execute_reply": "2022-03-22T16:56:30.667931Z",
     "shell.execute_reply.started": "2022-03-22T16:50:14.706294Z"
    },
    "papermill": {
     "duration": 0.060386,
     "end_time": "2022-03-22T16:56:30.668060",
     "exception": false,
     "start_time": "2022-03-22T16:56:30.607674",
     "status": "completed"
    },
    "tags": []
   },
   "outputs": [],
   "source": [
    "true_y_cat = []\n",
    "for val in test_data.classes:\n",
    "    true_y_cat.append(class_names_lst[val])"
   ]
  },
  {
   "cell_type": "code",
   "execution_count": null,
   "id": "76949e5e",
   "metadata": {
    "execution": {
     "iopub.execute_input": "2022-03-22T16:56:30.779001Z",
     "iopub.status.busy": "2022-03-22T16:56:30.778326Z",
     "iopub.status.idle": "2022-03-22T16:56:31.416645Z",
     "shell.execute_reply": "2022-03-22T16:56:31.416080Z",
     "shell.execute_reply.started": "2022-03-22T16:50:14.714656Z"
    },
    "papermill": {
     "duration": 0.69528,
     "end_time": "2022-03-22T16:56:31.416785",
     "exception": false,
     "start_time": "2022-03-22T16:56:30.721505",
     "status": "completed"
    },
    "tags": []
   },
   "outputs": [],
   "source": [
    "from sklearn.metrics import accuracy_score\n",
    "accuracy_score(test_data.classes, y_hat_lst)"
   ]
  },
  {
   "cell_type": "code",
   "execution_count": null,
   "id": "1621b2ba",
   "metadata": {
    "execution": {
     "iopub.execute_input": "2022-03-22T16:56:31.539996Z",
     "iopub.status.busy": "2022-03-22T16:56:31.539453Z",
     "iopub.status.idle": "2022-03-22T16:56:31.559138Z",
     "shell.execute_reply": "2022-03-22T16:56:31.558299Z",
     "shell.execute_reply.started": "2022-03-22T16:51:45.293303Z"
    },
    "papermill": {
     "duration": 0.086806,
     "end_time": "2022-03-22T16:56:31.559327",
     "exception": false,
     "start_time": "2022-03-22T16:56:31.472521",
     "status": "completed"
    },
    "tags": []
   },
   "outputs": [],
   "source": [
    "for i, j in zip(true_y_cat, y_hat_cat):\n",
    "    print(i, '|', j)"
   ]
  },
  {
   "cell_type": "code",
   "execution_count": null,
   "id": "936ba0f9",
   "metadata": {},
   "outputs": [],
   "source": [
    "# matplotlib chart plot showing number of correct and incorrect predictions of normal x-rays \n",
    "number_of_correct_normal = 0\n",
    "number_of_incorrect_normal = 0\n",
    "number_of_correct_covid = 0\n",
    "number_of_incorrect_covid = 0\n",
    "number_of_correct_vp = 0\n",
    "number_of_incorrect_vp = 0\n",
    "for i, j in zip(true_y_cat, y_hat_cat):\n",
    "    if i == j:\n",
    "        if i == 'Normal':\n",
    "            number_of_correct_normal += 1\n",
    "        elif i == 'Covid':\n",
    "            number_of_correct_covid += 1\n",
    "        else:\n",
    "            number_of_correct_vp += 1\n",
    "    else:\n",
    "        if i == 'Normal':\n",
    "            number_of_incorrect_normal += 1\n",
    "        elif i == 'Covid':\n",
    "            number_of_incorrect_covid += 1\n",
    "        else:\n",
    "            number_of_incorrect_vp += 1\n",
    "\n",
    "plt.figure(figsize = (15, 15))\n",
    "\n",
    "# matplotlib chart plot showing number of correct and incorrect predictions of covid x-rays\n",
    "plt.subplot(1, 3, 2)\n",
    "plt.bar('Correct', number_of_correct_covid, color = 'green')\n",
    "plt.bar('Incorrect', number_of_incorrect_covid, color = 'red')\n",
    "plt.title('Covid X-Ray Predictions')\n",
    "plt.show()\n",
    "\n",
    "plt.subplot(1, 3, 1)\n",
    "plt.bar('Correct', number_of_correct_normal, color = 'green')\n",
    "plt.bar('Incorrect', number_of_incorrect_normal, color = 'red')\n",
    "plt.title('Normal X-Ray Predictions')\n",
    "plt.show()\n",
    "\n",
    "# matplotlib chart plot showing number of correct and incorrect predictions of viral pneumonia x-rays\n",
    "plt.subplot(1, 3, 3)\n",
    "plt.bar('Correct', number_of_correct_vp, color = 'green')\n",
    "plt.bar('Incorrect', number_of_incorrect_vp, color = 'red')\n",
    "plt.title('Viral Pneumonia X-Ray Predictions')\n",
    "plt.show()"
   ]
  }
 ],
 "metadata": {
  "kernelspec": {
   "display_name": "Python 3",
   "language": "python",
   "name": "python3"
  },
  "language_info": {
   "codemirror_mode": {
    "name": "ipython",
    "version": 3
   },
   "file_extension": ".py",
   "mimetype": "text/x-python",
   "name": "python",
   "nbconvert_exporter": "python",
   "pygments_lexer": "ipython3",
   "version": "3.11.2"
  },
  "papermill": {
   "default_parameters": {},
   "duration": 205.469045,
   "end_time": "2022-03-22T16:56:35.285693",
   "environment_variables": {},
   "exception": null,
   "input_path": "__notebook__.ipynb",
   "output_path": "__notebook__.ipynb",
   "parameters": {},
   "start_time": "2022-03-22T16:53:09.816648",
   "version": "2.3.3"
  }
 },
 "nbformat": 4,
 "nbformat_minor": 5
}
